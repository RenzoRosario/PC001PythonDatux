{
 "cells": [
  {
   "cell_type": "markdown",
   "metadata": {},
   "source": [
    "<h1><u>Variables</u></h1>"
   ]
  },
  {
   "cell_type": "markdown",
   "metadata": {},
   "source": [
    "<u><b>Problema 1:</u></b> <br>\n",
    "Escribir un programa que solicite su nombre de usuario por consola y después de que el usuario lo introduzca muestre por pantalla la cadena “¡Hola <nombre>!”, donde <nombre> es el nombre que el usuario haya introducido."
   ]
  },
  {
   "cell_type": "code",
   "execution_count": 8,
   "metadata": {},
   "outputs": [
    {
     "name": "stdout",
     "output_type": "stream",
     "text": [
      "¡Hola Renzo!\n"
     ]
    }
   ],
   "source": [
    "# Solicitamos el nombre de usuario al usuario\n",
    "nombre = input(\"¿Cuál es tu nombre de usuario? \")\n",
    "\n",
    "# Imprimimos el mensaje de bienvenida\n",
    "print(f\"¡Hola {nombre}!\")"
   ]
  },
  {
   "cell_type": "markdown",
   "metadata": {},
   "source": [
    "<u><b>Problema 2:</u></b> <br>\n",
    "En los Estados Unidos, se acostumbra dejar una propina a su mesero después de cenar en un restaurante, generalmente una cantidad igual al 15% o más del costo de su comida.\n",
    "Escriba un programa que pregunte al usuario cuánto fue su consumo en el restaurante y que porcentaje de propina desea dejar al mesero. Su programa debe devolver la cantidad de dinero a dejar como propina."
   ]
  },
  {
   "cell_type": "code",
   "execution_count": 9,
   "metadata": {},
   "outputs": [
    {
     "name": "stdout",
     "output_type": "stream",
     "text": [
      "El monto de la propina es de $2.50\n"
     ]
    }
   ],
   "source": [
    "# Solicitamos el consumo del usuario\n",
    "consumo = float(input(\"¿Cuánto fue tu consumo en el restaurante? \"))\n",
    "\n",
    "# Solicitamos el porcentaje de propina\n",
    "propina = float(input(\"¿Qué porcentaje de propina deseas dejar? \"))\n",
    "\n",
    "# Calculamos el monto de la propina\n",
    "propina_monto = consumo * (propina / 100)\n",
    "\n",
    "# Imprimimos el monto de la propina\n",
    "print(f\"El monto de la propina es de ${propina_monto:.2f}\")"
   ]
  },
  {
   "cell_type": "markdown",
   "metadata": {},
   "source": [
    "<u><b>Problema 3:</u></b> <br>\n",
    "Una juguetería tiene mucho éxito en dos de sus productos: payasos y muñecas. Suele hacer venta por correo y la empresa de logística les cobra por peso de cada paquete así que deben calcular el peso de los payasos y muñecas que saldrán en cada paquete a demanda. Cada payaso pesa 112 g y cada muñeca 75 g. Escribir un programa que lea el número de payasos y muñecas vendidos en el último pedido y calcule el peso total del paquete que será enviado."
   ]
  },
  {
   "cell_type": "code",
   "execution_count": 12,
   "metadata": {},
   "outputs": [
    {
     "name": "stdout",
     "output_type": "stream",
     "text": [
      "El peso total del paquete es de 2430 gramos\n"
     ]
    }
   ],
   "source": [
    "# Solicitamos el número de payasos vendidos\n",
    "payasos = int(input(\"¿Cuántos payasos fueron vendidos? \"))\n",
    "\n",
    "# Solicitamos el número de muñecas vendidas\n",
    "muñecas = int(input(\"¿Cuántas muñecas fueron vendidas? \"))\n",
    "\n",
    "# Calculamos el peso total del paquete\n",
    "peso_total = payasos * 112 + muñecas * 75\n",
    "\n",
    "# Imprimimos el peso total del paquete\n",
    "print(f\"El peso total del paquete es de {peso_total} gramos\")"
   ]
  },
  {
   "cell_type": "markdown",
   "metadata": {},
   "source": [
    "<u><b>Problema 4:</u></b> <br>\n",
    "Escribir un programa que lea un entero positivo, N, introducido por el usuario y después muestre en pantalla la suma de todos los enteros desde 1 hasta N. La suma de los N primeros enteros positivos puede ser calculada de la siguiente forma: <br>\n",
    "![Alt text](PC1%5B1%5D.jpg)"
   ]
  },
  {
   "cell_type": "code",
   "execution_count": 14,
   "metadata": {},
   "outputs": [
    {
     "name": "stdout",
     "output_type": "stream",
     "text": [
      "La suma de los primeros 15 enteros positivos es de 120.0\n"
     ]
    }
   ],
   "source": [
    "# Solicitamos el número entero positivo\n",
    "n = int(input(\"Ingresa un número entero positivo: \"))\n",
    "\n",
    "# Calculamos la suma de los primeros n enteros positivos\n",
    "suma_n = n * (n + 1) / 2\n",
    "\n",
    "# Imprimimos la suma de los primeros n enteros positivos\n",
    "print(f\"La suma de los primeros {n} enteros positivos es de {suma_n}\")"
   ]
  },
  {
   "cell_type": "markdown",
   "metadata": {},
   "source": [
    "<h1><u>Condicionales</u></h1>"
   ]
  },
  {
   "cell_type": "markdown",
   "metadata": {},
   "source": [
    "<u><b>Problema 5:</u></b> <br>\n",
    "Escribir un programa que solicite al usuario que ingrese cuántos shows musicales ha visto en el último año y almacene ese número en una variable. A continuación, mostrar en pantalla un valor de verdad (True o False - tipo de datos booleanos) que indique si el usuario ha visto más de 3 shows."
   ]
  },
  {
   "cell_type": "code",
   "execution_count": 15,
   "metadata": {},
   "outputs": [
    {
     "name": "stdout",
     "output_type": "stream",
     "text": [
      "Has visto más de 3 shows musicales en el último año\n"
     ]
    }
   ],
   "source": [
    "# Solicitamos la cantidad de shows musicales vistos\n",
    "shows_musicales = int(input(\"¿Cuántos shows musicales has visto en el último año? \"))\n",
    "\n",
    "# Comprobamos si la cantidad de shows es mayor a 3\n",
    "if shows_musicales > 3:\n",
    "    # La cantidad de shows es mayor a 3\n",
    "    print(f\"Has visto más de 3 shows musicales en el último año\")\n",
    "# Comprobamos si la cantidad de shows es igual a 3\n",
    "elif shows_musicales == 3:\n",
    "    # La cantidad de shows es igual a 3\n",
    "    print(f\"Has visto exactamente 3 shows musicales en el último año\")\n",
    "else:\n",
    "    # La cantidad de shows es menor o igual a 3\n",
    "    print(f\"Has visto menos de 3 shows musicales en el último año\")"
   ]
  },
  {
   "cell_type": "markdown",
   "metadata": {},
   "source": [
    "<u><b>Problema 6:</u></b> <br>\n",
    "Escribir un programa para una empresa que tiene salas de juegos para todas las edades y quiere calcular de forma automática el precio que debe cobrar a sus clientes por entrar. El programa debe preguntar al usuario la edad del cliente y mostrar el precio de la entrada. Si el cliente es menor de 4 años puede entrar gratis, si tiene entre 4 y 18 años debe pagar $5 y si es mayor de 18 años, $10."
   ]
  },
  {
   "cell_type": "code",
   "execution_count": 16,
   "metadata": {},
   "outputs": [
    {
     "name": "stdout",
     "output_type": "stream",
     "text": [
      "El precio de la entrada es de $10\n"
     ]
    }
   ],
   "source": [
    "# Solicitamos la edad del usuario\n",
    "edad = int(input(\"¿Cuál es tu edad? \"))\n",
    "\n",
    "# Calculamos el precio de la entrada\n",
    "if edad < 4:\n",
    "    # El usuario tiene menos de 4 años\n",
    "    precio_entrada = 0\n",
    "elif edad >= 4 and edad < 18:\n",
    "    # El usuario tiene entre 4 y 18 años\n",
    "    precio_entrada = 5\n",
    "else:\n",
    "    # El usuario tiene más de 18 años\n",
    "    precio_entrada = 10\n",
    "\n",
    "# Imprimimos el precio de la entrada\n",
    "print(f\"El precio de la entrada es de ${precio_entrada}\")"
   ]
  },
  {
   "cell_type": "markdown",
   "metadata": {},
   "source": [
    "<u><b>Problema 7:</u></b> <br>\n",
    "Realiza un programa que lea dos números por teclado y permite elegir entre 3 opciones en un menú:\n",
    "- Mostrar una suma de los dos números.\n",
    "- Mostrar una resta de los dos números (el primero menos el segundo).\n",
    "- Mostrar una multiplicación de los dos números.\n",
    "- En caso de introducir una opción inválida, el programa informará de que no es correcta."
   ]
  },
  {
   "cell_type": "code",
   "execution_count": 17,
   "metadata": {},
   "outputs": [
    {
     "name": "stdout",
     "output_type": "stream",
     "text": [
      "¿Qué operación quieres realizar?\n",
      "1. Suma\n",
      "2. Resta\n",
      "3. Multiplicación\n",
      "El resultado de la multiplicación es: 500\n"
     ]
    }
   ],
   "source": [
    "# Solicitamos los dos números\n",
    "numero_1 = int(input(\"Introduce el primer número: \"))\n",
    "numero_2 = int(input(\"Introduce el segundo número: \"))\n",
    "\n",
    "# Mostramos el menú de opciones\n",
    "print(\"¿Qué operación quieres realizar?\")\n",
    "print(\"1. Suma\")\n",
    "print(\"2. Resta\")\n",
    "print(\"3. Multiplicación\")\n",
    "\n",
    "# Leemos la opción seleccionada\n",
    "opcion = input(\"Introduce una opción: \")\n",
    "\n",
    "# Realizamos la operación seleccionada\n",
    "if opcion == \"1\":\n",
    "    resultado = numero_1 + numero_2\n",
    "    print(f\"El resultado de la suma es: {resultado}\")\n",
    "elif opcion == \"2\":\n",
    "    resultado = numero_1 - numero_2\n",
    "    print(f\"El resultado de la resta es: {resultado}\")\n",
    "elif opcion == \"3\":\n",
    "    resultado = numero_1 * numero_2\n",
    "    print(f\"El resultado de la multiplicación es: {resultado}\")\n",
    "else:\n",
    "    print(\"La opción introducida no es válida\")"
   ]
  },
  {
   "cell_type": "markdown",
   "metadata": {},
   "source": [
    "<u><b>Problema 8:</u></b> <br>\n",
    "Supongamos que estás en un país donde se acostumbra desayunar entre las 7:00 y las 8:00, almorzar\n",
    "entre las 12:00 y las 13:00 y cenar entre las 18:00 y las 19:00.\n",
    "\n",
    "Implemente un programa que solicite al usuario una hora y le indique si es la hora del desayuno, la\n",
    "hora del almuerzo o la hora de la cena. Si no es hora de comer, no envíes nada.\n",
    "\n",
    "Suponga que la entrada del usuario se formatea en formato de 24 horas como #:## o ##:##. Y suponga que el rango de tiempo de cada comida es inclusivo. Por ejemplo, ya sean las 7:00, las 7:01, las 7:59 o las 8:00, o en cualquier momento intermedio, es hora de desayunar.\n",
    "\n",
    "Nota:\n",
    "Recuerde que cuando solicitamos datos a través de un input este nos devuelve un str, quizás le sea\n",
    "más fácil realizar la comparación convirtiendo los datos a float.\n",
    "\n",
    "    Ejemplo\n",
    "    Dato ingresado: “7:30” se puede interpretar como 7.5\n",
    "\n",
    "Para ello, podemos usar el siguiente método de cadena para facilitar la obtención del dato. Puede\n",
    "revisar otros métodos de cadena en el siguiente link.\n",
    "\n",
    "    time = input(“hora”)\n",
    "    hours, minutes = time.split(\":\")"
   ]
  },
  {
   "cell_type": "code",
   "execution_count": 18,
   "metadata": {},
   "outputs": [
    {
     "name": "stdout",
     "output_type": "stream",
     "text": [
      "Es hora de desayunar\n"
     ]
    }
   ],
   "source": [
    "# Solicitamos la hora al usuario\n",
    "hora = input(\"Introduce la hora en formato 24 horas (hh:mm): \")\n",
    "\n",
    "# Dividimos la hora en dos partes\n",
    "horas, minutos = hora.split(\":\")\n",
    "\n",
    "# Convertimos las partes de la hora a números flotantes\n",
    "try:\n",
    "    horas = float(horas)\n",
    "    minutos = float(minutos)\n",
    "except ValueError:\n",
    "    print(\"La hora introducida no es válida\")\n",
    "\n",
    "# Comprobamos si es hora de desayunar\n",
    "if 7 <= horas < 8:\n",
    "    print(\"Es hora de desayunar\")\n",
    "\n",
    "# Comprobamos si es hora de almorzar\n",
    "elif 12 <= horas < 13:\n",
    "    print(\"Es hora de almorzar\")\n",
    "\n",
    "# Comprobamos si es hora de cenar\n",
    "elif 18 <= horas < 19:\n",
    "    print(\"Es hora de cenar\")"
   ]
  },
  {
   "cell_type": "markdown",
   "metadata": {},
   "source": [
    "<h1><u>Colecciones de Datos:</u></h1>"
   ]
  },
  {
   "cell_type": "markdown",
   "metadata": {},
   "source": [
    "<u><b>Problema 9:</u></b> <br>\n",
    "Escriba un programa que, dada una lista, devuelve una nueva lista cuyo contenido sea igual a la original pero invertida.<br>\n",
    "- Así, dada la lista ['Di', 'buen', 'día', 'a', 'papa'], deberá devolver ['papa', 'a', 'día', 'buen', 'Di']."
   ]
  },
  {
   "cell_type": "code",
   "execution_count": 6,
   "metadata": {},
   "outputs": [
    {
     "name": "stdout",
     "output_type": "stream",
     "text": [
      "['papá', 'a', 'día', 'buen', 'Di']\n"
     ]
    }
   ],
   "source": [
    "# Definimos la lista \"Di buen día a papá\"\n",
    "lista = ['Di','buen','día','a','papá']\n",
    "\n",
    "# Invocamos la función para invertir la lista.\n",
    "lista.reverse()\n",
    "\n",
    "# Imprimimos la lista invertida.\n",
    "print(lista)"
   ]
  },
  {
   "cell_type": "markdown",
   "metadata": {},
   "source": [
    "<u><b>Problema 10:</u></b> <br>\n",
    "Escriba un programa para imprimir una lista específica después de eliminar los elementos que se encuentran en la posición 0, 4 y 5.<br>\n",
    "- Lista de muestra: ['Rojo', 'Verde', 'Blanco', 'Negro', 'Rosa', 'Amarillo']<br>\n",
    "- Resultado esperado: ['Verde', 'Blanco', 'Negro']"
   ]
  },
  {
   "cell_type": "code",
   "execution_count": 4,
   "metadata": {},
   "outputs": [
    {
     "name": "stdout",
     "output_type": "stream",
     "text": [
      "['Verde', 'Blanco', 'Negro']\n"
     ]
    }
   ],
   "source": [
    "# Creamos una lista \n",
    "lista = [\"Rojo\",\"Verde\",\"Blanco\",\"Negro\",\"Rosa\",\"Amarillo\"]\n",
    "\n",
    "# Invocamos la función para invertir la lista.\n",
    "lista.remove(\"Rojo\")\n",
    "lista.remove(\"Rosa\")\n",
    "lista.remove(\"Amarillo\")\n",
    "\n",
    "# Imprimimos la lista pedida.\n",
    "print(lista)"
   ]
  },
  {
   "cell_type": "markdown",
   "metadata": {},
   "source": [
    "<u><b>Problema 11:</u></b> <br>\n",
    "Escriba un programa Python que se encargue de eliminar los elementos duplicados de la siguiente lista. Su programa debe retornar otra lista sin los duplicados.\n",
    "- Lista original: [1, 1, 2, 3, 4, 4, 5, 1]<br>\n",
    "- Lista procesada: [1, 2, 3, 4,, 5]<br>"
   ]
  },
  {
   "cell_type": "code",
   "execution_count": 5,
   "metadata": {},
   "outputs": [
    {
     "name": "stdout",
     "output_type": "stream",
     "text": [
      "[1, 2, 3, 4, 5]\n"
     ]
    }
   ],
   "source": [
    "# Creamos una lista \n",
    "lista = [1, 1, 2, 3, 4, 4, 5, 1]\n",
    "\n",
    "# Invocamos la función para invertir la lista.\n",
    "lista_sin_duplicados = list(set(lista))\n",
    "\n",
    "# Imprimimos la lista pedida.\n",
    "print(lista_sin_duplicados)"
   ]
  },
  {
   "cell_type": "markdown",
   "metadata": {},
   "source": [
    "<u><b>Problema 12:</u></b> <br>\n",
    "La mayoría de los archivos tienen extensiones de archivo, el cual es un sufijo que comienza con un punto (.) al final de su nombre. Por ejemplo, los nombres de archivo para GIF terminan en .gif y los nombres de archivo para JPEG terminan en .jpg o .jpeg. Mientras que en los sistemas operativos como Windows, el tipo de archivo le sirve al computador abrir el archivo en el formato apropiado, en la web esto es distinto.  Los navegadores web, por el contrario, se basan en tipos de medios, anteriormente conocidos como tipos MIME, para determinar cómo mostrar los archivos que viven en la web.\n",
    "\n",
    "<u>Implemente un programa </u> que solicite al usuario el nombre de un archivo y luego genere el tipo de archivo MIME correspondiente. Si el nombre del archivo termina en cualquiera de estos sufijos (sin importar el uso de mayúsculas y minúsculas):\n",
    "\n",
    "- .gif\n",
    "- .jpg\n",
    "- .jpeg\n",
    "- .png\n",
    "- .pdf\n",
    "- .txt\n",
    "- .zip\n",
    "\n",
    "Si el nombre del archivo termina con algún otro sufijo que no se encuentra en la lista o no tiene ningún sufijo, en su lugar su programa deberá devolver %application/octet-stream%.\n",
    "\n",
    "Ejemplos:<br>\n",
    "    - *Nombre Archivo: happy.jpg* *Salida Esperada: image/jpeg*<br>\n",
    "    - *Nombre Archivo: document.pdf* *Salida Esperada: application/pdf*\n",
    "\n",
    "Nota:\n",
    "- El empleo de diccionarios podría ayudar con esta tarea.\n",
    "- El uso de métodos de cadena sería muy útil al momento de separar el nombre del archivo de su extensión."
   ]
  },
  {
   "cell_type": "code",
   "execution_count": 3,
   "metadata": {},
   "outputs": [
    {
     "name": "stdout",
     "output_type": "stream",
     "text": [
      "El tipo MIME del archivo Archivo.gif es: image/gif\n"
     ]
    }
   ],
   "source": [
    "nombre_archivo = input(\"Ingrese el nombre del archivo: \")\n",
    "tipos_validos = {'.gif': 'image/gif', '.jpg': 'image/jpeg', '.jpeg': 'image/jpeg','.png': 'image/png', '.pdf': 'application/pdf', '.txt': 'text/plain', '.zip': 'application/zip'}\n",
    "\n",
    "# Obtener la extensión del archivo\n",
    "punto_index = nombre_archivo.rfind('.')\n",
    "\n",
    "if punto_index != -1:\n",
    "    extension = nombre_archivo[punto_index:].lower()\n",
    "    \n",
    "    if extension in tipos_validos:\n",
    "        mime_type = f\"El tipo MIME del archivo {nombre_archivo} es: {tipos_validos[extension]}\"\n",
    "    else:\n",
    "        mime_type = f\"El tipo MIME del archivo {nombre_archivo} es: application/octet-stream\"\n",
    "else:\n",
    "    mime_type = f\"El tipo MIME del archivo {nombre_archivo} es: application/octet-stream\"\n",
    "\n",
    "print(mime_type)"
   ]
  }
 ],
 "metadata": {
  "kernelspec": {
   "display_name": "Python 3",
   "language": "python",
   "name": "python3"
  },
  "language_info": {
   "codemirror_mode": {
    "name": "ipython",
    "version": 3
   },
   "file_extension": ".py",
   "mimetype": "text/x-python",
   "name": "python",
   "nbconvert_exporter": "python",
   "pygments_lexer": "ipython3",
   "version": "3.10.8"
  }
 },
 "nbformat": 4,
 "nbformat_minor": 2
}
