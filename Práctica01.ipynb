{
 "cells": [
  {
   "cell_type": "markdown",
   "metadata": {},
   "source": [
    "<h1><u>Variables</u></h1>"
   ]
  },
  {
   "cell_type": "markdown",
   "metadata": {},
   "source": [
    "<u><b>Problema 1:</u></b> <br>\n",
    "Escribir un programa que solicite su nombre de usuario por consola y después de que el usuario lo introduzca muestre por pantalla la cadena “¡Hola <nombre>!”, donde <nombre> es el nombre que el usuario haya introducido."
   ]
  },
  {
   "cell_type": "code",
   "execution_count": null,
   "metadata": {},
   "outputs": [],
   "source": [
    "# Solicitamos el nombre de usuario al usuario\n",
    "nombre = input(\"¿Cuál es tu nombre de usuario? \")\n",
    "\n",
    "# Imprimimos el mensaje de bienvenida\n",
    "print(f\"¡Hola {nombre}!\")"
   ]
  }
 ],
 "metadata": {
  "kernelspec": {
   "display_name": "Python 3",
   "language": "python",
   "name": "python3"
  },
  "language_info": {
   "name": "python",
   "version": "3.10.8"
  }
 },
 "nbformat": 4,
 "nbformat_minor": 2
}
