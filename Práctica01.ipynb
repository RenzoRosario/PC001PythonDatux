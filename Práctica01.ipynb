{
 "cells": [
  {
   "cell_type": "markdown",
   "metadata": {},
   "source": [
    "<h1><u>Variables</u></h1>"
   ]
  },
  {
   "cell_type": "markdown",
   "metadata": {},
   "source": [
    "<u><b>Problema 1:</u></b> <br>\n",
    "Escribir un programa que solicite su nombre de usuario por consola y después de que el usuario lo introduzca muestre por pantalla la cadena “¡Hola <nombre>!”, donde <nombre> es el nombre que el usuario haya introducido."
   ]
  },
  {
   "cell_type": "code",
   "execution_count": null,
   "metadata": {},
   "outputs": [],
   "source": [
    "# Solicitamos el nombre de usuario al usuario\n",
    "nombre = input(\"¿Cuál es tu nombre de usuario? \")\n",
    "\n",
    "# Imprimimos el mensaje de bienvenida\n",
    "print(f\"¡Hola {nombre}!\")"
   ]
  },
  {
   "cell_type": "markdown",
   "metadata": {},
   "source": [
    "<u><b>Problema 2:</u></b> <br>\n",
    "En los Estados Unidos, se acostumbra dejar una propina a su mesero después de cenar en un restaurante, generalmente una cantidad igual al 15% o más del costo de su comida.\n",
    "Escriba un programa que pregunte al usuario cuánto fue su consumo en el restaurante y que porcentaje de propina desea dejar al mesero. Su programa debe devolver la cantidad de dinero a dejar como propina."
   ]
  },
  {
   "cell_type": "code",
   "execution_count": null,
   "metadata": {},
   "outputs": [],
   "source": [
    "# Solicitamos el consumo del usuario\n",
    "consumo = float(input(\"¿Cuánto fue tu consumo en el restaurante? \"))\n",
    "\n",
    "# Solicitamos el porcentaje de propina\n",
    "propina = float(input(\"¿Qué porcentaje de propina deseas dejar? \"))\n",
    "\n",
    "# Calculamos el monto de la propina\n",
    "propina_monto = consumo * (propina / 100)\n",
    "\n",
    "# Imprimimos el monto de la propina\n",
    "print(f\"El monto de la propina es de ${propina_monto:.2f}\")"
   ]
  },
  {
   "cell_type": "markdown",
   "metadata": {},
   "source": [
    "<u><b>Problema 3:</u></b> <br>\n",
    "Una juguetería tiene mucho éxito en dos de sus productos: payasos y muñecas. Suele hacer venta por correo y la empresa de logística les cobra por peso de cada paquete así que deben calcular el peso de los payasos y muñecas que saldrán en cada paquete a demanda. Cada payaso pesa 112 g y cada muñeca 75 g. Escribir un programa que lea el número de payasos y muñecas vendidos en el último pedido y calcule el peso total del paquete que será enviado."
   ]
  },
  {
   "cell_type": "code",
   "execution_count": null,
   "metadata": {},
   "outputs": [],
   "source": [
    "# Solicitamos el número de payasos vendidos\n",
    "payasos = int(input(\"¿Cuántos payasos fueron vendidos? \"))\n",
    "\n",
    "# Solicitamos el número de muñecas vendidas\n",
    "muñecas = int(input(\"¿Cuántas muñecas fueron vendidas? \"))\n",
    "\n",
    "# Calculamos el peso total del paquete\n",
    "peso_total = payasos * 0.112 + muñecas * 0.075\n",
    "\n",
    "# Imprimimos el peso total del paquete\n",
    "print(f\"El peso total del paquete es de {peso_total:.2f} gramos\")"
   ]
  },
  {
   "cell_type": "markdown",
   "metadata": {},
   "source": [
    "<u><b>Problema 4:</u></b> <br>\n",
    "Escribir un programa que lea un entero positivo, N, introducido por el usuario y después muestre en pantalla la suma de todos los enteros desde 1 hasta N. La suma de los N primeros enteros positivos puede ser calculada de la siguiente forma: <br>\n",
    "![Alt text](PC1%5B1%5D.jpg)"
   ]
  },
  {
   "cell_type": "code",
   "execution_count": null,
   "metadata": {},
   "outputs": [],
   "source": [
    "# Solicitamos el número entero positivo\n",
    "n = int(input(\"Ingresa un número entero positivo: \"))\n",
    "\n",
    "# Calculamos la suma de los primeros n enteros positivos\n",
    "suma_n = n * (n + 1) / 2\n",
    "\n",
    "# Imprimimos la suma de los primeros n enteros positivos\n",
    "print(f\"La suma de los primeros {n} enteros positivos es de {suma_n:.2f}\")"
   ]
  },
  {
   "cell_type": "markdown",
   "metadata": {},
   "source": [
    "<h1><u>Condicionales</u></h1>"
   ]
  },
  {
   "cell_type": "markdown",
   "metadata": {},
   "source": [
    "<u><b>Problema 5:</u></b> <br>\n",
    "Escribir un programa que solicite al usuario que ingrese cuántos shows musicales ha visto en el último año y almacene ese número en una variable. A continuación, mostrar en pantalla un valor de verdad (True o False - tipo de datos booleanos) que indique si el usuario ha visto más de 3 shows."
   ]
  },
  {
   "cell_type": "code",
   "execution_count": null,
   "metadata": {},
   "outputs": [],
   "source": [
    "# Solicitamos la cantidad de shows musicales vistos\n",
    "shows_musicales = int(input(\"¿Cuántos shows musicales has visto en el último año? \"))\n",
    "\n",
    "# Comprobamos si la cantidad de shows es mayor a 3\n",
    "if shows_musicales > 3:\n",
    "    # La cantidad de shows es mayor a 3\n",
    "    print(f\"Has visto más de 3 shows musicales en el último año\")\n",
    "# Comprobamos si la cantidad de shows es igual a 3\n",
    "elif shows_musicales == 3:\n",
    "    # La cantidad de shows es igual a 3\n",
    "    print(f\"Has visto exactamente 3 shows musicales en el último año\")\n",
    "else:\n",
    "    # La cantidad de shows es menor o igual a 3\n",
    "    print(f\"Has visto menos de 3 shows musicales en el último año\")"
   ]
  },
  {
   "cell_type": "markdown",
   "metadata": {},
   "source": [
    "<u><b>Problema 6:</u></b> <br>\n",
    "Escribir un programa para una empresa que tiene salas de juegos para todas las edades y quiere calcular de forma automática el precio que debe cobrar a sus clientes por entrar. El programa debe preguntar al usuario la edad del cliente y mostrar el precio de la entrada. Si el cliente es menor de 4 años puede entrar gratis, si tiene entre 4 y 18 años debe pagar $5 y si es mayor de 18 años, $10."
   ]
  },
  {
   "cell_type": "code",
   "execution_count": null,
   "metadata": {},
   "outputs": [],
   "source": [
    "# Solicitamos la edad del usuario\n",
    "edad = int(input(\"¿Cuál es tu edad? \"))\n",
    "\n",
    "# Calculamos el precio de la entrada\n",
    "if edad < 4:\n",
    "    # El usuario tiene menos de 4 años\n",
    "    precio_entrada = 0\n",
    "elif edad >= 4 and edad < 18:\n",
    "    # El usuario tiene entre 4 y 18 años\n",
    "    precio_entrada = 5\n",
    "else:\n",
    "    # El usuario tiene más de 18 años\n",
    "    precio_entrada = 10\n",
    "\n",
    "# Imprimimos el precio de la entrada\n",
    "print(f\"El precio de la entrada es de ${precio_entrada}\")"
   ]
  },
  {
   "cell_type": "markdown",
   "metadata": {},
   "source": [
    "<u><b>Problema 7:</u></b> <br>\n",
    "Realiza un programa que lea dos números por teclado y permite elegir entre 3 opciones en un menú:\n",
    "- Mostrar una suma de los dos números.\n",
    "- Mostrar una resta de los dos números (el primero menos el segundo).\n",
    "- Mostrar una multiplicación de los dos números.\n",
    "- En caso de introducir una opción inválida, el programa informará de que no es correcta."
   ]
  },
  {
   "cell_type": "code",
   "execution_count": null,
   "metadata": {},
   "outputs": [],
   "source": [
    "# Solicitamos los dos números\n",
    "numero_1 = int(input(\"Introduce el primer número: \"))\n",
    "numero_2 = int(input(\"Introduce el segundo número: \"))\n",
    "\n",
    "# Mostramos el menú de opciones\n",
    "print(\"¿Qué operación quieres realizar?\")\n",
    "print(\"1. Suma\")\n",
    "print(\"2. Resta\")\n",
    "print(\"3. Multiplicación\")\n",
    "\n",
    "# Leemos la opción seleccionada\n",
    "opcion = input(\"Introduce una opción: \")\n",
    "\n",
    "# Realizamos la operación seleccionada\n",
    "if opcion == \"1\":\n",
    "    resultado = numero_1 + numero_2\n",
    "    print(f\"El resultado de la suma es: {resultado}\")\n",
    "elif opcion == \"2\":\n",
    "    resultado = numero_1 - numero_2\n",
    "    print(f\"El resultado de la resta es: {resultado}\")\n",
    "elif opcion == \"3\":\n",
    "    resultado = numero_1 * numero_2\n",
    "    print(f\"El resultado de la multiplicación es: {resultado}\")\n",
    "else:\n",
    "    print(\"La opción introducida no es válida\")"
   ]
  },
  {
   "cell_type": "markdown",
   "metadata": {},
   "source": [
    "<u><b>Problema 8:</u></b> <br>\n",
    "Supongamos que estás en un país donde se acostumbra desayunar entre las 7:00 y las 8:00, almorzar\n",
    "entre las 12:00 y las 13:00 y cenar entre las 18:00 y las 19:00.\n",
    "\n",
    "Implemente un programa que solicite al usuario una hora y le indique si es la hora del desayuno, la\n",
    "hora del almuerzo o la hora de la cena. Si no es hora de comer, no envíes nada.\n",
    "\n",
    "Suponga que la entrada del usuario se formatea en formato de 24 horas como #:## o ##:##. Y suponga que el rango de tiempo de cada comida es inclusivo. Por ejemplo, ya sean las 7:00, las 7:01, las 7:59 o las 8:00, o en cualquier momento intermedio, es hora de desayunar.\n",
    "\n",
    "Nota:\n",
    "Recuerde que cuando solicitamos datos a través de un input este nos devuelve un str, quizás le sea\n",
    "más fácil realizar la comparación convirtiendo los datos a float.\n",
    "\n",
    "    Ejemplo\n",
    "    Dato ingresado: “7:30” se puede interpretar como 7.5\n",
    "\n",
    "Para ello, podemos usar el siguiente método de cadena para facilitar la obtención del dato. Puede\n",
    "revisar otros métodos de cadena en el siguiente link.\n",
    "\n",
    "    time = input(“hora”)\n",
    "    hours, minutes = time.split(\":\")"
   ]
  },
  {
   "cell_type": "code",
   "execution_count": null,
   "metadata": {},
   "outputs": [],
   "source": [
    "# Solicitamos la hora al usuario\n",
    "hora = input(\"Introduce la hora en formato 24 horas (hh:mm): \")\n",
    "\n",
    "# Dividimos la hora en dos partes\n",
    "horas, minutos = hora.split(\":\")\n",
    "\n",
    "# Convertimos las partes de la hora a números flotantes\n",
    "try:\n",
    "    horas = float(horas)\n",
    "    minutos = float(minutos)\n",
    "except ValueError:\n",
    "    print(\"La hora introducida no es válida\")\n",
    "\n",
    "# Comprobamos si es hora de desayunar\n",
    "if 7 <= horas < 8:\n",
    "    print(\"Es hora de desayunar\")\n",
    "\n",
    "# Comprobamos si es hora de almorzar\n",
    "elif 12 <= horas < 13:\n",
    "    print(\"Es hora de almorzar\")\n",
    "\n",
    "# Comprobamos si es hora de cenar\n",
    "elif 18 <= horas < 19:\n",
    "    print(\"Es hora de cenar\")"
   ]
  },
  {
   "cell_type": "markdown",
   "metadata": {},
   "source": [
    "<h1><u>Colecciones de Datos:</u></h1>"
   ]
  },
  {
   "cell_type": "markdown",
   "metadata": {},
   "source": [
    "<u><b>Problema 9:</u></b> <br>\n",
    "Escriba un programa que, dada una lista, devuelve una nueva lista cuyo contenido sea igual a la\n",
    "original pero invertida. Así, dada la lista ['Di', 'buen', 'día', 'a', 'papa'], deberá devolver ['papa', 'a',\n",
    "'día', 'buen', 'Di']."
   ]
  },
  {
   "cell_type": "code",
   "execution_count": null,
   "metadata": {},
   "outputs": [],
   "source": [
    "def invertir_lista(lista):\n",
    "  \"\"\"\n",
    "  Invierte el orden de los elementos de una lista.\n",
    "\n",
    "  Args:\n",
    "    lista: La lista que se va a invertir.\n",
    "\n",
    "  Returns:\n",
    "    Una nueva lista con los elementos de la lista original invertidos.\n",
    "  \"\"\"\n",
    "\n",
    "  # Creamos una nueva lista vacía.\n",
    "  lista_invertida = []\n",
    "\n",
    "  # Recorremos la lista original de atrás hacia adelante.\n",
    "  for elemento in lista[::-1]:\n",
    "    # Añadimos el elemento a la nueva lista.\n",
    "    lista_invertida.append(elemento)\n",
    "\n",
    "  # Devolvemos la nueva lista.\n",
    "  return lista_invertida\n",
    "\n",
    "\n",
    "lista = [\"Di\", \"buen\", \"día\", \"a\", \"papa\"]\n",
    "\n",
    "# Invocamos la función para invertir la lista.\n",
    "lista_invertida = invertir_lista(lista)\n",
    "\n",
    "# Imprimimos la lista invertida.\n",
    "print(lista_invertida)"
   ]
  },
  {
   "cell_type": "markdown",
   "metadata": {},
   "source": [
    "<u><b>Problema 10:</u></b> <br>\n",
    "Escriba un programa para imprimir una lista específica después de eliminar los elementos que se encuentran en la posición 0, 4 y 5. \n",
    "Lista de muestra: ['Rojo', 'Verde', 'Blanco', 'Negro', 'Rosa', 'Amarillo']\n",
    "Resultado esperado: ['Verde', 'Blanco', 'Negro']"
   ]
  },
  {
   "cell_type": "code",
   "execution_count": 3,
   "metadata": {},
   "outputs": [
    {
     "name": "stdout",
     "output_type": "stream",
     "text": [
      "['Verde', 'Blanco', 'Negro']\n"
     ]
    }
   ],
   "source": [
    "def eliminar_elementos_por_posicion(lista, posiciones):\n",
    "  \"\"\"\n",
    "  Elimina los elementos de una lista que se encuentran en las posiciones especificadas.\n",
    "\n",
    "  Args:\n",
    "    lista: La lista que se va a modificar.\n",
    "    posiciones: Una lista con las posiciones de los elementos que se van a eliminar.\n",
    "\n",
    "  Returns:\n",
    "    Una nueva lista con los elementos de la lista original sin los elementos eliminados.\n",
    "  \"\"\"\n",
    "\n",
    "  # Creamos una nueva lista vacía.\n",
    "  lista_nueva = []\n",
    "\n",
    "  # Recorremos la lista original.\n",
    "  for i, elemento in enumerate(lista):\n",
    "    # Si la posición actual no está en la lista de posiciones, añadimos el elemento a la nueva lista.\n",
    "    if i not in posiciones:\n",
    "      lista_nueva.append(elemento)\n",
    "\n",
    "  # Devolvemos la nueva lista.\n",
    "  return lista_nueva\n",
    "\n",
    "\n",
    "lista = [\"Rojo\", \"Verde\", \"Blanco\", \"Negro\", \"Rosa\", \"Amarillo\"]\n",
    "\n",
    "# Las posiciones de los elementos que se van a eliminar.\n",
    "posiciones = [0, 4, 5]\n",
    "\n",
    "# Eliminamos los elementos de la lista.\n",
    "lista_nueva = eliminar_elementos_por_posicion(lista, posiciones)\n",
    "\n",
    "# Imprimimos la lista nueva.\n",
    "print(lista_nueva)"
   ]
  }
 ],
 "metadata": {
  "kernelspec": {
   "display_name": "Python 3",
   "language": "python",
   "name": "python3"
  },
  "language_info": {
   "codemirror_mode": {
    "name": "ipython",
    "version": 3
   },
   "file_extension": ".py",
   "mimetype": "text/x-python",
   "name": "python",
   "nbconvert_exporter": "python",
   "pygments_lexer": "ipython3",
   "version": "3.10.8"
  }
 },
 "nbformat": 4,
 "nbformat_minor": 2
}
