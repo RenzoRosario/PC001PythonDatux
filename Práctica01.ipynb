{
 "cells": [
  {
   "cell_type": "markdown",
   "metadata": {},
   "source": [
    "<h1><u>Variables</u></h1>"
   ]
  },
  {
   "cell_type": "markdown",
   "metadata": {},
   "source": [
    "<u><b>Problema 1:</u></b> <br>\n",
    "Escribir un programa que solicite su nombre de usuario por consola y después de que el usuario lo introduzca muestre por pantalla la cadena “¡Hola <nombre>!”, donde <nombre> es el nombre que el usuario haya introducido."
   ]
  },
  {
   "cell_type": "code",
   "execution_count": null,
   "metadata": {},
   "outputs": [],
   "source": [
    "# Solicitamos el nombre de usuario al usuario\n",
    "nombre = input(\"¿Cuál es tu nombre de usuario? \")\n",
    "\n",
    "# Imprimimos el mensaje de bienvenida\n",
    "print(f\"¡Hola {nombre}!\")"
   ]
  },
  {
   "cell_type": "markdown",
   "metadata": {},
   "source": [
    "<u><b>Problema 2:</u></b> <br>\n",
    "En los Estados Unidos, se acostumbra dejar una propina a su mesero después de cenar en un restaurante, generalmente una cantidad igual al 15% o más del costo de su comida.\n",
    "Escriba un programa que pregunte al usuario cuánto fue su consumo en el restaurante y que porcentaje de propina desea dejar al mesero. Su programa debe devolver la cantidad de dinero a dejar como propina."
   ]
  },
  {
   "cell_type": "code",
   "execution_count": null,
   "metadata": {},
   "outputs": [],
   "source": [
    "# Solicitamos el consumo del usuario\n",
    "consumo = float(input(\"¿Cuánto fue tu consumo en el restaurante? \"))\n",
    "\n",
    "# Solicitamos el porcentaje de propina\n",
    "propina = float(input(\"¿Qué porcentaje de propina deseas dejar? \"))\n",
    "\n",
    "# Calculamos el monto de la propina\n",
    "propina_monto = consumo * (propina / 100)\n",
    "\n",
    "# Imprimimos el monto de la propina\n",
    "print(f\"El monto de la propina es de ${propina_monto:.2f}\")"
   ]
  },
  {
   "cell_type": "markdown",
   "metadata": {},
   "source": [
    "<u><b>Problema 3:</u></b> <br>\n",
    "Una juguetería tiene mucho éxito en dos de sus productos: payasos y muñecas. Suele hacer venta por correo y la empresa de logística les cobra por peso de cada paquete así que deben calcular el peso de los payasos y muñecas que saldrán en cada paquete a demanda. Cada payaso pesa 112 g y cada muñeca 75 g. Escribir un programa que lea el número de payasos y muñecas vendidos en el último pedido y calcule el peso total del paquete que será enviado."
   ]
  },
  {
   "cell_type": "code",
   "execution_count": null,
   "metadata": {},
   "outputs": [],
   "source": []
  }
 ],
 "metadata": {
  "kernelspec": {
   "display_name": "Python 3",
   "language": "python",
   "name": "python3"
  },
  "language_info": {
   "name": "python",
   "version": "3.10.8"
  }
 },
 "nbformat": 4,
 "nbformat_minor": 2
}
